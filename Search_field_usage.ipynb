{
 "cells": [
  {
   "cell_type": "code",
   "execution_count": null,
   "id": "68e92d6a-dbfa-473a-b93a-efdaef370b2f",
   "metadata": {},
   "outputs": [],
   "source": [
    "import pandas as pd\n",
    "import scipy as sp\n",
    "import numpy as np\n",
    "import matplotlib.pyplot as plt\n",
    "import seaborn as sns\n",
    "import re\n",
    "from urllib import parse\n",
    "from collections import Counter"
   ]
  },
  {
   "cell_type": "code",
   "execution_count": null,
   "id": "5a48af6a-090f-42b9-b493-d9033dd8a0af",
   "metadata": {},
   "outputs": [],
   "source": [
    "log_lines = []\n",
    "with open(\"data/logs_all_searches.txt\") as file:\n",
    "    for line in file:\n",
    "        log_lines.append(line)\n",
    "\n"
   ]
  },
  {
   "cell_type": "code",
   "execution_count": null,
   "id": "5fc42492-cc3e-4e03-8d0c-94826d778827",
   "metadata": {},
   "outputs": [],
   "source": [
    "log_lines[0].split(\"\\t\")"
   ]
  },
  {
   "cell_type": "code",
   "execution_count": null,
   "id": "96200a75-7fe0-487c-9092-6c234accb3ce",
   "metadata": {},
   "outputs": [],
   "source": [
    "re.search(\"GET /judgments/(advanced_)?search\\\\?([^\\\\s]+) HTTP/1\\.1\", log_lines[0])[2]"
   ]
  },
  {
   "cell_type": "code",
   "execution_count": null,
   "id": "31f0548f-2e46-462e-ac80-ec971afd8174",
   "metadata": {},
   "outputs": [],
   "source": [
    "re.search(\"GET /judgments/(advanced_)?search\\\\?([^\\\\s]+) HTTP/1\\.1\", log_lines[0])[2]"
   ]
  },
  {
   "cell_type": "code",
   "execution_count": null,
   "id": "ad486c17-932e-4f35-aeab-12ecc30952d8",
   "metadata": {},
   "outputs": [],
   "source": [
    "def get_query(line):\n",
    "    match = re.search(\"GET /judgments/advanced_search\\\\?([^\\\\s]+) HTTP/1\\.1\", line)\n",
    "    if match and match[1]:\n",
    "        return dict(parse.parse_qsl(match[1]))\n",
    "        \n"
   ]
  },
  {
   "cell_type": "code",
   "execution_count": null,
   "id": "2e669a3b-79e1-4017-90ad-d7750741f56c",
   "metadata": {},
   "outputs": [],
   "source": [
    "queries = []\n",
    "for line in log_lines:\n",
    "    queries.append(get_query(line))\n",
    "queries"
   ]
  },
  {
   "cell_type": "code",
   "execution_count": null,
   "id": "2942d9c5-e972-49ff-9067-eab1ac2fd7ba",
   "metadata": {},
   "outputs": [],
   "source": [
    "total = 0\n",
    "per_param = Counter()\n",
    "for query in queries:\n",
    "    if query is not None:\n",
    "        total += 1\n",
    "        for key in query:\n",
    "            per_param[key] += 1"
   ]
  },
  {
   "cell_type": "code",
   "execution_count": null,
   "id": "4ff9cbf8-5f95-4461-8d56-75ba3b30c144",
   "metadata": {},
   "outputs": [],
   "source": [
    "per_param"
   ]
  },
  {
   "cell_type": "code",
   "execution_count": null,
   "id": "2bbb6ebe-8739-4830-9b2b-4c1dae0082ad",
   "metadata": {},
   "outputs": [],
   "source": [
    "total"
   ]
  },
  {
   "cell_type": "code",
   "execution_count": null,
   "id": "ed21d1da-cfbe-4c51-8489-f7b042e3b3c7",
   "metadata": {},
   "outputs": [],
   "source": [
    "per_param['specific_keyword'] / float(total)"
   ]
  },
  {
   "cell_type": "code",
   "execution_count": null,
   "id": "ae710dba-ee30-4e0e-9e3a-4b5a76b15697",
   "metadata": {},
   "outputs": [],
   "source": [
    "per_param[\"neutral_citation\"] / float(total)"
   ]
  },
  {
   "cell_type": "code",
   "execution_count": null,
   "id": "dab3ae7f-4ac4-4f43-9273-7376fb1f716f",
   "metadata": {},
   "outputs": [],
   "source": [
    "params_counts_df = pd.DataFrame.from_dict(per_param, orient='index', columns=[\"n\"]).reindex()"
   ]
  },
  {
   "cell_type": "code",
   "execution_count": null,
   "id": "e1eb7147-f553-49f5-b4b0-3faa4bb0ab19",
   "metadata": {},
   "outputs": [],
   "source": [
    "params_counts_df[\"percentage\"] = params_counts_df[\"n\"] / total * 100"
   ]
  },
  {
   "cell_type": "code",
   "execution_count": null,
   "id": "a8eece34-bab1-478a-b936-1f578115323f",
   "metadata": {},
   "outputs": [],
   "source": [
    "params_counts_df.sort_values(\"n\", ascending=False)"
   ]
  },
  {
   "cell_type": "code",
   "execution_count": null,
   "id": "43d423bd-d518-432d-b3c4-af69ab839bc9",
   "metadata": {},
   "outputs": [],
   "source": [
    "log_lines[0]"
   ]
  },
  {
   "cell_type": "code",
   "execution_count": null,
   "id": "bf7973a3-7454-41d9-bc1f-193b2de6d840",
   "metadata": {},
   "outputs": [],
   "source": [
    "log_lines[-1]"
   ]
  },
  {
   "cell_type": "code",
   "execution_count": null,
   "id": "298b6ea0-95a2-4c6b-acdc-6db3ae1e6283",
   "metadata": {},
   "outputs": [],
   "source": [
    "total"
   ]
  },
  {
   "cell_type": "code",
   "execution_count": null,
   "id": "758ac8fb-1c61-4cc2-87a7-87eebd1e965c",
   "metadata": {},
   "outputs": [],
   "source": [
    "params_df = pd.DataFrame.from_records([query for query in queries if query is not None])"
   ]
  },
  {
   "cell_type": "code",
   "execution_count": null,
   "id": "00c495cc-3d9c-4cef-8e0d-b6f627665851",
   "metadata": {},
   "outputs": [],
   "source": [
    "params_df"
   ]
  },
  {
   "cell_type": "code",
   "execution_count": null,
   "id": "3e0d2fba-a117-46c9-92e3-e9cb13d62c9a",
   "metadata": {},
   "outputs": [],
   "source": [
    "params_df.groupby(\"specific_keyword\").count().rename({\"page\": \"n\"}, axis=1)[[\"n\"]].sort_values(\"n\", ascending=False)"
   ]
  },
  {
   "cell_type": "code",
   "execution_count": null,
   "id": "0f85324c-cb79-4816-9b61-931ea9e20bef",
   "metadata": {},
   "outputs": [],
   "source": [
    "as_first_page_counts = pd.DataFrame(params_df[pd.isna(params_df[\"page\"])].count(), columns=[\"n\"])"
   ]
  },
  {
   "cell_type": "code",
   "execution_count": null,
   "id": "57d69f1e-2f94-4bbd-bd1c-4ab9f8973851",
   "metadata": {},
   "outputs": [],
   "source": [
    "as_first_page_counts[\"percentage\"] = as_first_page_counts[\"n\"] / float(params_df[pd.isna(params_df[\"page\"])].shape[0]) * 100"
   ]
  },
  {
   "cell_type": "code",
   "execution_count": null,
   "id": "98c25e89-24cd-4296-ab97-65035e992c11",
   "metadata": {},
   "outputs": [],
   "source": [
    "float(params_df[pd.isna(params_df[\"page\"])].shape[0])"
   ]
  },
  {
   "cell_type": "code",
   "execution_count": null,
   "id": "93debc70-c0ca-4d03-9355-ac2b5cc5b42e",
   "metadata": {},
   "outputs": [],
   "source": [
    "as_first_page_counts.sort_values(\"n\", ascending=False)"
   ]
  },
  {
   "cell_type": "code",
   "execution_count": null,
   "id": "7eba0ea5-61bb-4474-b806-3225c839f0b2",
   "metadata": {},
   "outputs": [],
   "source": [
    "as_first_page = pd.DataFrame(params_df[pd.isna(params_df[\"page\"]) & pd.isna(params_df[\"per_page\"]) & pd.isna(params_df[\"order\"])])\n",
    "as_first_page[\"i\"] = 1"
   ]
  },
  {
   "cell_type": "code",
   "execution_count": null,
   "id": "70169ea8-fbdc-4e6a-ae9d-5bb98c9736e2",
   "metadata": {},
   "outputs": [],
   "source": [
    "as_first_page.groupby(\"specific_keyword\").count().rename({\"court\": \"n\"}, axis=1)[[\"n\"]].sort_values(\"n\", ascending=False)"
   ]
  },
  {
   "cell_type": "code",
   "execution_count": null,
   "id": "b72954dd-5441-4099-8ad3-3d65b2c69af7",
   "metadata": {},
   "outputs": [],
   "source": [
    "as_first_page.groupby(\"judge\").count().rename({\"i\": \"n\"}, axis=1)[[\"n\"]].sort_values(\"n\", ascending=False)"
   ]
  },
  {
   "cell_type": "code",
   "execution_count": null,
   "id": "cecae61b-6480-4d30-8187-b9263b331bfc",
   "metadata": {},
   "outputs": [],
   "source": [
    "as_first_page_no_fuzz = as_first_page[~as_first_page.apply(lambda r: r.str.contains('FUZZ', case=False).any(), axis=1)] "
   ]
  },
  {
   "cell_type": "code",
   "execution_count": null,
   "id": "1e2999b8-886d-47dc-b7ae-f850c28d1892",
   "metadata": {},
   "outputs": [],
   "source": [
    "as_first_page_no_fuzz_count = pd.DataFrame(as_first_page_no_fuzz.count(), columns=[\"n\"])"
   ]
  },
  {
   "cell_type": "code",
   "execution_count": null,
   "id": "8ab374cb-607a-4483-a4be-66f7fc360fa1",
   "metadata": {},
   "outputs": [],
   "source": [
    "as_first_page_no_fuzz_total = as_first_page_no_fuzz.shape[0]; as_first_page_no_fuzz_total"
   ]
  },
  {
   "cell_type": "code",
   "execution_count": null,
   "id": "7e72a2ce-3f69-4b2f-8a53-3a04c3028ecb",
   "metadata": {},
   "outputs": [],
   "source": [
    "as_first_page_no_fuzz_count[\"percentage\"] = as_first_page_no_fuzz_count[\"n\"] / as_first_page_no_fuzz_total * 100"
   ]
  },
  {
   "cell_type": "code",
   "execution_count": null,
   "id": "0875f6c3-b44d-4413-9335-cb4dce1a5270",
   "metadata": {},
   "outputs": [],
   "source": [
    "as_first_page_no_fuzz_count.sort_values(\"n\", ascending=False)"
   ]
  },
  {
   "cell_type": "code",
   "execution_count": null,
   "id": "7eedb397-cf4b-4eed-bca0-d31863965323",
   "metadata": {},
   "outputs": [],
   "source": [
    "params_df[\"n\"] = 1"
   ]
  },
  {
   "cell_type": "code",
   "execution_count": null,
   "id": "c579fdf1-0b9b-42a1-b92a-4cfa533e52cf",
   "metadata": {},
   "outputs": [],
   "source": [
    "pages = params_df[~params_df[\"page\"].str.contains(\"FUZZ\", na=False)].fillna(\"0\").groupby(\"page\").count()[[\"n\"]].reset_index()\n",
    "pages[\"page\"] = pages[\"page\"].astype(int)\n",
    "pages.sort_values(\"page\", ascending=True).set_index(\"page\").plot(logy=True)"
   ]
  },
  {
   "cell_type": "code",
   "execution_count": null,
   "id": "bbdd4de5-987e-4979-abf9-a3da4a08ac69",
   "metadata": {},
   "outputs": [],
   "source": [
    "pages[pages[\"page\"] > 200]"
   ]
  },
  {
   "cell_type": "code",
   "execution_count": null,
   "id": "1ee84e92-8fef-47ff-ab96-1cb71d48bf91",
   "metadata": {},
   "outputs": [],
   "source": [
    "params_df_unfuzzed = params_df[~params_df.apply(lambda r: r.str.contains('FUZZ', case=False).any(), axis=1)] "
   ]
  },
  {
   "cell_type": "code",
   "execution_count": null,
   "id": "03282b73-cd07-47ea-9318-8710e3e8521f",
   "metadata": {},
   "outputs": [],
   "source": [
    "params_df_unfuzzed[\"real_page\"] = params_df_unfuzzed[\"page\"].fillna(0).astype(int)"
   ]
  },
  {
   "cell_type": "code",
   "execution_count": null,
   "id": "22438ebf-facf-4f6d-8ff9-c01cbbf6a7b7",
   "metadata": {},
   "outputs": [],
   "source": [
    "params_df_unfuzzed.group_by(\"real_page\").count()[[\"n\"]]"
   ]
  },
  {
   "cell_type": "code",
   "execution_count": null,
   "id": "4e757d76-2207-45a9-85a6-df299d61955a",
   "metadata": {},
   "outputs": [],
   "source": [
    "params_df_unfuzzed[params_df_unfuzzed[\"real_page\"] > 200].shape[0] / params_df_unfuzzed.shape[0]"
   ]
  },
  {
   "cell_type": "code",
   "execution_count": null,
   "id": "49036aad-7f6a-428f-b97d-2245aeecc077",
   "metadata": {},
   "outputs": [],
   "source": [
    "bot_param_counts = pd.DataFrame(params_df_unfuzzed[params_df_unfuzzed[\"real_page\"] > 200].count(), columns=[\"n\"])"
   ]
  },
  {
   "cell_type": "code",
   "execution_count": null,
   "id": "785ee591-cfa3-4bed-bbac-43a5fe54d46b",
   "metadata": {},
   "outputs": [],
   "source": [
    "params_df_unfuzzed.groupby(\"query\").count()[[\"n\"]].sort_values(\"n\", ascending=False).head(20)"
   ]
  },
  {
   "cell_type": "code",
   "execution_count": null,
   "id": "91c9f6fa-60a8-498e-95f3-076d84e3d4d5",
   "metadata": {},
   "outputs": [],
   "source": [
    "queries"
   ]
  },
  {
   "cell_type": "code",
   "execution_count": null,
   "id": "a983a9fb-84c6-4607-842b-129105d13f35",
   "metadata": {},
   "outputs": [],
   "source": [
    "queryterms = set()\n",
    "for query in queries:\n",
    "    if query:\n",
    "        if \"query\" in query:\n",
    "            queryterms.add(query[\"query\"])"
   ]
  },
  {
   "cell_type": "code",
   "execution_count": null,
   "id": "118f1d52-161c-4e1f-b365-75e07036b864",
   "metadata": {},
   "outputs": [],
   "source": [
    "for term in queryterms:\n",
    "    print(term)"
   ]
  },
  {
   "cell_type": "code",
   "execution_count": null,
   "id": "f62462db-c81f-4375-9663-79fac4b886b0",
   "metadata": {},
   "outputs": [],
   "source": [
    "log_lines"
   ]
  },
  {
   "cell_type": "code",
   "execution_count": null,
   "id": "e9ec3c21-d83e-4fce-bcbe-b32e34df8cb7",
   "metadata": {},
   "outputs": [],
   "source": []
  },
  {
   "cell_type": "code",
   "execution_count": null,
   "id": "e2d38aa7-26db-4b92-971e-c66de03a9ff7",
   "metadata": {},
   "outputs": [],
   "source": [
    "\"a moron in a hurry\", 3, \"https:/balaslkajlaskjflsdjfs///\""
   ]
  },
  {
   "cell_type": "code",
   "execution_count": null,
   "id": "68b20b2b-9148-49d0-ad47-767e3ce8bdde",
   "metadata": {},
   "outputs": [],
   "source": []
  }
 ],
 "metadata": {
  "kernelspec": {
   "display_name": "Python 3 (ipykernel)",
   "language": "python",
   "name": "python3"
  },
  "language_info": {
   "codemirror_mode": {
    "name": "ipython",
    "version": 3
   },
   "file_extension": ".py",
   "mimetype": "text/x-python",
   "name": "python",
   "nbconvert_exporter": "python",
   "pygments_lexer": "ipython3",
   "version": "3.11.1"
  }
 },
 "nbformat": 4,
 "nbformat_minor": 5
}
