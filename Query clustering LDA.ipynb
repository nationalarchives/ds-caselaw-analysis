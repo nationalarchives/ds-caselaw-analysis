{
 "cells": [
  {
   "cell_type": "code",
   "execution_count": null,
   "id": "ebb56ff3-5ed9-4e8b-b738-bbe7bde85376",
   "metadata": {},
   "outputs": [],
   "source": [
    "import pandas as pd\n",
    "import scipy as sp\n",
    "import scipy.stats as st\n",
    "import numpy as np\n",
    "import matplotlib\n",
    "import matplotlib.pyplot as plt\n",
    "import seaborn as sns\n",
    "import json\n",
    "import random\n",
    "from pprint import pprint\n",
    "from urllib import parse\n",
    "from sklearn.feature_extraction.text import HashingVectorizer\n",
    "matplotlib.rcParams['figure.figsize'] = [16, 9]"
   ]
  },
  {
   "cell_type": "code",
   "execution_count": null,
   "id": "09f4db3f-fc00-4094-93e6-fc751dcb67fa",
   "metadata": {},
   "outputs": [],
   "source": [
    "with open(\"data/search_queries_and_documents.json\") as file:\n",
    "    searches = json.load(file)\n",
    "data = [parse.unquote(search[\"query\"][\"query\"][0]) for search in searches] "
   ]
  },
  {
   "cell_type": "code",
   "execution_count": null,
   "id": "f4c04906-eb23-49fe-ad5d-e89b45ee68d7",
   "metadata": {},
   "outputs": [],
   "source": [
    "vectorizer = HashingVectorizer(\n",
    "    stop_words=\"english\",\n",
    ")\n",
    "X_hash = vectorizer.fit_transform(data)"
   ]
  },
  {
   "cell_type": "code",
   "execution_count": null,
   "id": "30bfa5cb-3314-4864-9669-bc3988d8e283",
   "metadata": {},
   "outputs": [],
   "source": [
    "X_hash"
   ]
  },
  {
   "cell_type": "code",
   "execution_count": null,
   "id": "a6b4b49e-507e-49be-bbe6-6a1915fb50ed",
   "metadata": {},
   "outputs": [],
   "source": [
    "from sklearn.cluster import KMeans\n",
    "true_k  = 15\n",
    "\n",
    "kmeans = KMeans(\n",
    "    n_clusters=true_k,\n",
    "    max_iter=100,\n",
    "    n_init=5,\n",
    "    random_state=seed,\n",
    ").fit(X_hash)"
   ]
  },
  {
   "cell_type": "code",
   "execution_count": null,
   "id": "ea9afe5b-21c2-493f-9813-f9bd52a5b3f8",
   "metadata": {},
   "outputs": [],
   "source": [
    "clusters = kmeans.predict(X_hash)"
   ]
  },
  {
   "cell_type": "code",
   "execution_count": null,
   "id": "35fca7c3-428b-4207-9796-f1c722134508",
   "metadata": {},
   "outputs": [],
   "source": [
    "labelled = list(zip(data, clusters))"
   ]
  },
  {
   "cell_type": "code",
   "execution_count": null,
   "id": "a62ac646-0500-4afa-b054-805983dae5d5",
   "metadata": {},
   "outputs": [],
   "source": [
    "for i in range(0, true_k):\n",
    "    examples = [x[0] for x in labelled if x[1] == i]\n",
    "    print(\"category %s: %s examples\" % (i, len(examples)))\n",
    "    for example in random.choices(examples, k=5):\n",
    "        print(\" - %s\" % example)"
   ]
  },
  {
   "cell_type": "code",
   "execution_count": null,
   "id": "4fc728ef-b553-41cd-bbb0-657dafe36b9b",
   "metadata": {},
   "outputs": [],
   "source": []
  },
  {
   "cell_type": "code",
   "execution_count": null,
   "id": "f12260ed-7929-450d-a3ac-86abc3c02c52",
   "metadata": {},
   "outputs": [],
   "source": []
  }
 ],
 "metadata": {
  "kernelspec": {
   "display_name": "Python 3 (ipykernel)",
   "language": "python",
   "name": "python3"
  },
  "language_info": {
   "codemirror_mode": {
    "name": "ipython",
    "version": 3
   },
   "file_extension": ".py",
   "mimetype": "text/x-python",
   "name": "python",
   "nbconvert_exporter": "python",
   "pygments_lexer": "ipython3",
   "version": "3.11.1"
  }
 },
 "nbformat": 4,
 "nbformat_minor": 5
}
