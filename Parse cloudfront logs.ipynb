{
 "cells": [
  {
   "cell_type": "markdown",
   "id": "bc9bbc98-9010-40b1-bf0e-4d0208bb6b11",
   "metadata": {},
   "source": [
    "# Parsing cloudfront logs"
   ]
  },
  {
   "cell_type": "code",
   "execution_count": null,
   "id": "266c5efe-399f-46f9-9fc9-5cb1f245ef2b",
   "metadata": {},
   "outputs": [],
   "source": [
    "import pandas as pd\n",
    "import scipy as sp\n",
    "import numpy as np\n",
    "import matplotlib\n",
    "import matplotlib.pyplot as plt\n",
    "import seaborn as sns\n",
    "import re\n",
    "import json\n",
    "from datetime import datetime, timedelta\n",
    "from urllib import parse\n",
    "from collections import Counter, defaultdict\n",
    "matplotlib.rcParams['figure.figsize'] = [16, 9]"
   ]
  },
  {
   "cell_type": "markdown",
   "id": "2d89bca5-4cd4-48d9-81b2-979c5e6d4150",
   "metadata": {},
   "source": [
    "Let's start by opening the searches json we created, following the instructions in the readme, and doing a bit of ad-hoc investigation to sense check it. Well look at the number of searches, the most common query terms, and the least common query terms:"
   ]
  },
  {
   "cell_type": "code",
   "execution_count": null,
   "id": "860e2511-9939-473c-945c-94c2699558c1",
   "metadata": {},
   "outputs": [],
   "source": [
    "with open(\"data/searches_nov_23.json\") as file:\n",
    "    searches = json.load(file)"
   ]
  },
  {
   "cell_type": "code",
   "execution_count": null,
   "id": "9d5987fa-aa66-4adc-963a-30cd404f42da",
   "metadata": {},
   "outputs": [],
   "source": [
    "len(searches)"
   ]
  },
  {
   "cell_type": "code",
   "execution_count": null,
   "id": "876bb828-3c5a-4b02-879e-e995b950e033",
   "metadata": {},
   "outputs": [],
   "source": [
    "query_counter = Counter()\n",
    "for search in searches:\n",
    "    if \"query\" in search[\"query\"] and len(search[\"documents\"]) > 0:\n",
    "        query_counter.update(search[\"query\"][\"query\"])\n",
    "query_counter.most_common(20)"
   ]
  },
  {
   "cell_type": "code",
   "execution_count": null,
   "id": "2a7c9394-2d2b-47f7-a4bb-d1f60cabc5b6",
   "metadata": {},
   "outputs": [],
   "source": [
    "query_counter.most_common()[-20:-1]"
   ]
  },
  {
   "cell_type": "markdown",
   "id": "2ddd1c0c-4335-4860-9e0a-e981539ce528",
   "metadata": {},
   "source": [
    "We can also print a wordcloud, removing neutral citations and some of the more common bits of bot spam, to get an overview of the search themes:"
   ]
  },
  {
   "cell_type": "code",
   "execution_count": null,
   "id": "48022a35-f0af-4873-afa4-3969ed924d39",
   "metadata": {},
   "outputs": [],
   "source": [
    "nc_match = '(fam|ewca|civ|ewhc|crim|ewfc|ewca|crown court| v )'\n",
    "bot_match  = '(xor|sysdate|select|sleep|waitfor|delay|search|pipe|dbms|recieve|message)'\n",
    "exclude = [\"the\", \"hrc\", \"1\", \"1\\\\]\n",
    "from wordcloud import WordCloud\n",
    "queries = []\n",
    "for search in searches:\n",
    "    if \"query\" in search[\"query\"]:\n",
    "        if not re.search(nc_match, search[\"query\"][\"query\"][0], re.IGNORECASE):\n",
    "            if not re.search(bot_match, search[\"query\"][\"query\"][0], re.IGNORECASE):\n",
    "                queries += [parse.unquote(q).strip().lower() for q in search[\"query\"][\"query\"]]\n",
    "wordcloud = WordCloud(background_color=\"white\", max_words=5000, contour_width=3, contour_color='steelblue', width=1920, height=1080)\n",
    "wordcloud.generate(\" \".join(queries))\n",
    "wordcloud.to_image()"
   ]
  },
  {
   "cell_type": "markdown",
   "id": "a3f22e2f-8af8-4239-88e6-dfb2e7dce576",
   "metadata": {},
   "source": [
    "How many searches resulted in a click on a document?"
   ]
  },
  {
   "cell_type": "code",
   "execution_count": null,
   "id": "6680d812-0a7e-4f12-8df4-2dbf934571a1",
   "metadata": {},
   "outputs": [],
   "source": [
    "searches_with_query_and_documents = [search for search in searches if \"query\" in search[\"query\"] and len(search[\"documents\"]) > 0]"
   ]
  },
  {
   "cell_type": "code",
   "execution_count": null,
   "id": "4de8bb2c-4825-439f-b29d-4d186b1462ed",
   "metadata": {},
   "outputs": [],
   "source": [
    "len(searches_with_query_and_documents)"
   ]
  },
  {
   "cell_type": "markdown",
   "id": "be6cfdcb-707c-4b7e-8a9c-d4225f19c39e",
   "metadata": {},
   "source": [
    "We want to clean up these queries a bit, there's still lots of bot spam to be dealt with. To do that, we'll make a CSV of the the query terms that appear in the searches, and the number of searches with that query:"
   ]
  },
  {
   "cell_type": "code",
   "execution_count": null,
   "id": "b0a37ff0-638a-4825-9389-6c40fee11957",
   "metadata": {},
   "outputs": [],
   "source": [
    "query_counter = Counter([parse.unquote(s[\"query\"][\"query\"][0]).strip().lower() for s in searches_with_query_and_documents])\n",
    "query_counts_df = pd.DataFrame.from_records([{\"query\": q[0], \"count\": q[1]} for q in query_counter.most_common()])"
   ]
  },
  {
   "cell_type": "code",
   "execution_count": null,
   "id": "9531133f-ec38-42ed-ace0-9c0c26456853",
   "metadata": {},
   "outputs": [],
   "source": [
    "len(query_counter)"
   ]
  },
  {
   "cell_type": "code",
   "execution_count": null,
   "id": "cde4bd49-fdd0-4d30-ba65-474b92d8e094",
   "metadata": {},
   "outputs": [],
   "source": [
    "query_counts_df.to_csv(\"data/query_counts.csv\")"
   ]
  },
  {
   "cell_type": "markdown",
   "id": "51b9ca91-10b5-402c-b2aa-0f61e8bf4e41",
   "metadata": {},
   "source": [
    "We can then open that CSV in our favourite spreadsheet, and add a new column with the heading 'exclude', adding a '1' in every row we want to exclude from our test set. This shouldn't take that long - I spent about 20 minutes on it in a set with ~9000 queries. Then load that CSV in here, and continue.\n"
   ]
  },
  {
   "cell_type": "code",
   "execution_count": null,
   "id": "dab67f24-3222-45d6-8908-0a3908eb9c42",
   "metadata": {},
   "outputs": [],
   "source": [
    "exclusions = pd.read_csv(\"data/query_counts_with_exclusions.csv\", sep=\";\")\n",
    "exclusions = exclusions[exclusions.exclude == 1][[\"query\", \"count\"]]"
   ]
  },
  {
   "cell_type": "markdown",
   "id": "42b5a1d9-a1fa-49c4-8565-d261937a5fd9",
   "metadata": {},
   "source": [
    "We create a new set of queries and documents excluding the ones we've marked, and check its length, outputting that file to `data/search_queries_and_documents.json` where our search metrics notebook can use it."
   ]
  },
  {
   "cell_type": "code",
   "execution_count": null,
   "id": "644ee26b-3a42-4b6b-a6a3-e5946b991d33",
   "metadata": {},
   "outputs": [],
   "source": [
    "searches_with_query_and_documents_without_exclusions = []\n",
    "for search in searches_with_query_and_documents:\n",
    "    query = search[\"query\"][\"query\"][0]\n",
    "    if parse.unquote(query).strip().lower() not in set(exclusions[\"query\"]):\n",
    "        searches_with_query_and_documents_without_exclusions.append(search)"
   ]
  },
  {
   "cell_type": "code",
   "execution_count": null,
   "id": "90153a88-e992-4250-bdcb-466bee685798",
   "metadata": {},
   "outputs": [],
   "source": [
    "len(searches_with_query_and_documents_without_exclusions)"
   ]
  },
  {
   "cell_type": "code",
   "execution_count": null,
   "id": "15aa5358-65a1-414e-909d-3636eae6cc78",
   "metadata": {},
   "outputs": [],
   "source": [
    "with open(\"data/search_queries_and_documents.json\", \"w\") as file:\n",
    "    json.dump(searches_with_query_and_documents_without_exclusions, file, default= lambda x: x.isoformat())"
   ]
  },
  {
   "cell_type": "markdown",
   "id": "5ebc16ef-9a5c-4528-b5a2-0ecaf89e131e",
   "metadata": {},
   "source": [
    "Finally, let's calculate the proportion of abandoned searches:"
   ]
  },
  {
   "cell_type": "code",
   "execution_count": null,
   "id": "5cc06727-f3fa-4764-80d6-c7600ce4f2d6",
   "metadata": {},
   "outputs": [],
   "source": [
    "searches_with_query = [search for search in searches if \"query\" in search[\"query\"]]"
   ]
  },
  {
   "cell_type": "code",
   "execution_count": null,
   "id": "fa6ecb46-ea20-42bb-9c59-6e47cdc189a7",
   "metadata": {},
   "outputs": [],
   "source": [
    "searches_with_query_without_exclusions = []\n",
    "for search in searches_with_query:\n",
    "    query = search[\"query\"][\"query\"][0]\n",
    "    if parse.unquote(query).strip().lower() not in set(exclusions[\"query\"]):\n",
    "        searches_with_query_without_exclusions.append(search)"
   ]
  },
  {
   "cell_type": "code",
   "execution_count": null,
   "id": "9302a4e1-bdaf-4a02-9c4f-166c22969f2b",
   "metadata": {},
   "outputs": [],
   "source": [
    "len(searches_with_query_and_documents_without_exclusions) / float(len(searches_with_query_without_exclusions))"
   ]
  },
  {
   "cell_type": "code",
   "execution_count": null,
   "id": "2eb7b2be-128a-4213-8de5-9c71d4225490",
   "metadata": {},
   "outputs": [],
   "source": []
  }
 ],
 "metadata": {
  "kernelspec": {
   "display_name": "Python 3 (ipykernel)",
   "language": "python",
   "name": "python3"
  },
  "language_info": {
   "codemirror_mode": {
    "name": "ipython",
    "version": 3
   },
   "file_extension": ".py",
   "mimetype": "text/x-python",
   "name": "python",
   "nbconvert_exporter": "python",
   "pygments_lexer": "ipython3",
   "version": "3.11.1"
  }
 },
 "nbformat": 4,
 "nbformat_minor": 5
}
